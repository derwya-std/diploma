{
 "cells": [
  {
   "metadata": {
    "ExecuteTime": {
     "end_time": "2025-06-04T22:39:29.493436Z",
     "start_time": "2025-06-04T22:39:28.854450Z"
    }
   },
   "cell_type": "code",
   "source": [
    "import os\n",
    "import zlib\n",
    "import json\n",
    "import bisect\n",
    "from pathlib import Path\n",
    "from collections import defaultdict\n",
    "\n",
    "import numpy as np\n",
    "import cv2\n",
    "from tqdm.notebook import tqdm\n",
    "from scipy.spatial.transform import Slerp, Rotation as R\n",
    "\n",
    "import rclpy\n",
    "from rclpy.serialization import deserialize_message\n",
    "from rosbag2_py import SequentialReader, StorageOptions, ConverterOptions\n",
    "\n",
    "from sensor_msgs.msg import Imu\n",
    "from rosgraph_msgs.msg import Clock\n",
    "from sensor_msgs.msg import CompressedImage\n",
    "from px4_msgs.msg import VehicleOdometry"
   ],
   "id": "a9b5f097258b84c0",
   "outputs": [],
   "execution_count": 1
  },
  {
   "metadata": {
    "ExecuteTime": {
     "end_time": "2025-06-04T22:39:29.622166Z",
     "start_time": "2025-06-04T22:39:29.619485Z"
    }
   },
   "cell_type": "code",
   "source": [
    "bag_dir = \"/home/oleksii/bags/flight_20250603_025520/flight_20250603_025520_0.mcap\"\n",
    "output_dir = Path(\"./output\")\n",
    "\n",
    "IMU_DOWNSAMPLE = 1\n",
    "IMU_WINDOW = 50\n",
    "MAX_ODOM_GAP_NS = int(0.2 * 1e9)  # 200ms max gap for interpolation\n",
    "\n",
    "IMG_WIDTH = 640\n",
    "IMG_HEIGHT = 480\n",
    "\n",
    "RGB_TOPIC = \"/camera/image/cpsd\"\n",
    "IMU_TOPIC = \"/imu\"\n",
    "ODOM_TOPIC = \"/fmu/out/vehicle_odometry\"\n",
    "CLOCK_TOPIC = \"/clock\""
   ],
   "id": "3a23ae9ee93cdfdf",
   "outputs": [],
   "execution_count": 2
  },
  {
   "metadata": {
    "ExecuteTime": {
     "end_time": "2025-06-04T22:39:29.671137Z",
     "start_time": "2025-06-04T22:39:29.668924Z"
    }
   },
   "cell_type": "code",
   "source": [
    "bag_dir = \"/home/oleksii/bags/flight_20250604_211016/flight_20250604_211016_0.mcap\"\n",
    "output_dir = Path(\"./output\")"
   ],
   "id": "d47d6724100a1e36",
   "outputs": [],
   "execution_count": 3
  },
  {
   "metadata": {
    "ExecuteTime": {
     "end_time": "2025-06-04T22:39:29.739584Z",
     "start_time": "2025-06-04T22:39:29.735520Z"
    }
   },
   "cell_type": "code",
   "source": [
    "image_dir = output_dir / \"images\"\n",
    "imu_dir = output_dir / \"imu\"\n",
    "clock_log = output_dir / \"clock_log.json\"\n",
    "label_dir = output_dir / \"labels\"\n",
    "timestamps_file = output_dir / \"image_timestamps.npy\"\n",
    "\n",
    "for folder in (image_dir, imu_dir, label_dir):\n",
    "    folder.mkdir(parents=True, exist_ok=True)\n",
    "\n",
    "print(f\"Folders created:\\n  {image_dir}\\n  {imu_dir}\\n  {label_dir}\")"
   ],
   "id": "2651d2f80ccbbf38",
   "outputs": [
    {
     "name": "stdout",
     "output_type": "stream",
     "text": [
      "Folders created:\n",
      "  output/images\n",
      "  output/imu\n",
      "  output/labels\n"
     ]
    }
   ],
   "execution_count": 4
  },
  {
   "metadata": {
    "ExecuteTime": {
     "end_time": "2025-06-04T22:39:29.820688Z",
     "start_time": "2025-06-04T22:39:29.808582Z"
    }
   },
   "cell_type": "code",
   "source": "rclpy.init()",
   "id": "d308a31577598ab4",
   "outputs": [],
   "execution_count": 5
  },
  {
   "metadata": {
    "ExecuteTime": {
     "end_time": "2025-06-04T22:39:29.904184Z",
     "start_time": "2025-06-04T22:39:29.855548Z"
    }
   },
   "cell_type": "code",
   "source": [
    "storage_opts = StorageOptions(uri=bag_dir, storage_id=\"mcap\")\n",
    "conv_opts = ConverterOptions(\"cdr\", \"cdr\")\n",
    "reader = SequentialReader()\n",
    "reader.open(storage_opts, conv_opts)"
   ],
   "id": "a6efa991dc32677d",
   "outputs": [],
   "execution_count": 6
  },
  {
   "metadata": {
    "ExecuteTime": {
     "end_time": "2025-06-04T22:39:29.957928Z",
     "start_time": "2025-06-04T22:39:29.954295Z"
    }
   },
   "cell_type": "code",
   "source": [
    "topic_types = {}\n",
    "for topic_info in reader.get_all_topics_and_types():\n",
    "    topic_types[topic_info.name] = topic_info.type\n",
    "\n",
    "print(\"Topics and types in bag:\")\n",
    "for name, ttype in topic_types.items():\n",
    "    print(f\"{name:<35s} -> {ttype}\")"
   ],
   "id": "7aa0dd4449d4ad34",
   "outputs": [
    {
     "name": "stdout",
     "output_type": "stream",
     "text": [
      "Topics and types in bag:\n",
      "/clock                              -> rosgraph_msgs/msg/Clock\n",
      "/fmu/out/vehicle_odometry           -> px4_msgs/msg/VehicleOdometry\n",
      "/imu                                -> sensor_msgs/msg/Imu\n",
      "/camera/image/cpsd                  -> sensor_msgs/msg/CompressedImage\n"
     ]
    }
   ],
   "execution_count": 7
  },
  {
   "metadata": {
    "ExecuteTime": {
     "end_time": "2025-06-04T22:59:11.172466Z",
     "start_time": "2025-06-04T22:39:30.013254Z"
    }
   },
   "cell_type": "code",
   "source": [
    "# Get topic types\n",
    "reader = SequentialReader()\n",
    "reader.open(storage_opts, conv_opts)\n",
    "topic_types = {info.name: info.type for info in reader.get_all_topics_and_types()}\n",
    "reader.close()\n",
    "\n",
    "print(f\"Found {len(topic_types)} topics\")\n",
    "print(\"Collecting timestamps for synchronization...\")\n",
    "\n",
    "# First pass: collect sync data - optimized\n",
    "clock_times = []  # (bag_timestamp, sim_clock_time)\n",
    "px4_times = []  # (bag_timestamp, px4_time)\n",
    "\n",
    "reader = SequentialReader()\n",
    "reader.open(storage_opts, conv_opts)\n",
    "\n",
    "while reader.has_next():\n",
    "    topic, data_bytes, bag_timestamp_ns = reader.read_next()\n",
    "\n",
    "    if topic == CLOCK_TOPIC:\n",
    "        clock_msg = deserialize_message(data_bytes, Clock)\n",
    "        sim_clock_ns = clock_msg.clock.sec * 10 ** 9 + clock_msg.clock.nanosec\n",
    "        clock_times.append((bag_timestamp_ns, sim_clock_ns))\n",
    "\n",
    "    elif topic == ODOM_TOPIC:\n",
    "        vo = deserialize_message(data_bytes, VehicleOdometry)\n",
    "        px4_ts = getattr(vo, 'timestamp_sample', getattr(vo, 'timestamp', 0))\n",
    "        if px4_ts > 0:\n",
    "            px4_times.append((bag_timestamp_ns, px4_ts * 1000))\n",
    "\n",
    "reader.close()\n",
    "\n",
    "# Pre-compute synchronization lookup\n",
    "print(f\"Building sync lookup from {len(clock_times)} clock and {len(px4_times)} odom messages\")\n",
    "\n",
    "if clock_times and px4_times:\n",
    "    # Create arrays for fast lookup\n",
    "    clock_bag_times = np.array([bt for bt, _ in clock_times])\n",
    "    clock_sim_times = np.array([st for _, st in clock_times])\n",
    "    px4_bag_times = np.array([bt for bt, _ in px4_times])\n",
    "    px4_timestamps = np.array([pt for _, pt in px4_times])\n",
    "\n",
    "    # Calculate median offset for synchronization\n",
    "    mid_idx = len(px4_times) // 2\n",
    "    ref_bag_time = px4_bag_times[mid_idx]\n",
    "    ref_px4_time = px4_timestamps[mid_idx]\n",
    "\n",
    "    # Find closest clock time\n",
    "    closest_clock_idx = np.argmin(np.abs(clock_bag_times - ref_bag_time))\n",
    "    ref_sim_time = clock_sim_times[closest_clock_idx]\n",
    "\n",
    "    # Global offset: sim_time = px4_time - offset\n",
    "    px4_to_sim_offset = ref_px4_time - ref_sim_time\n",
    "    print(f\"Sync offset: {px4_to_sim_offset / 1e6:.1f}ms\")\n",
    "\n",
    "\n",
    "    def convert_px4_to_sim(px4_time):\n",
    "        return px4_time - px4_to_sim_offset\n",
    "else:\n",
    "    def convert_px4_to_sim(px4_time):\n",
    "        return px4_time\n",
    "\n",
    "print(\"Processing data...\")\n",
    "\n",
    "# Pre-allocate arrays for better performance\n",
    "imu_buffer = []\n",
    "odom_buffer = []\n",
    "clock_list = []\n",
    "image_timestamps = []\n",
    "\n",
    "# Pre-allocate common objects to avoid repeated instantiation\n",
    "empty_imu = Imu()\n",
    "imu_pad_entry = (0, empty_imu)\n",
    "\n",
    "img_count = 0\n",
    "imu_count = 0\n",
    "\n",
    "reader = SequentialReader()\n",
    "reader.open(storage_opts, conv_opts)\n",
    "\n",
    "pbar = tqdm(desc=\"Processing...\", unit=\"msg\")\n",
    "\n",
    "while reader.has_next():\n",
    "    topic, data_bytes, bag_timestamp_ns = reader.read_next()\n",
    "\n",
    "    if topic == RGB_TOPIC:\n",
    "        ci = deserialize_message(data_bytes, CompressedImage)\n",
    "\n",
    "        # Get timestamp\n",
    "        if ci.header.stamp.sec > 0 or ci.header.stamp.nanosec > 0:\n",
    "            timestamp_ns = ci.header.stamp.sec * 10 ** 9 + ci.header.stamp.nanosec\n",
    "        else:\n",
    "            timestamp_ns = bag_timestamp_ns\n",
    "\n",
    "        # Process image\n",
    "        try:\n",
    "            raw = zlib.decompress(ci.data)\n",
    "            arr = np.frombuffer(raw, dtype=np.uint8).reshape((IMG_HEIGHT, IMG_WIDTH, 3))\n",
    "            bgr = cv2.cvtColor(arr, cv2.COLOR_RGB2BGR)\n",
    "            cv2.imwrite(str(image_dir / f\"img_{img_count:06d}.png\"), bgr)\n",
    "        except:\n",
    "            continue\n",
    "\n",
    "        # Process IMU window - optimized\n",
    "        if imu_buffer:\n",
    "            imu_timestamps = [t for t, _ in imu_buffer]\n",
    "            idx = bisect.bisect_right(imu_timestamps, timestamp_ns) - 1\n",
    "\n",
    "            if idx >= 0:\n",
    "                start_idx = max(0, idx - IMU_WINDOW + 1)\n",
    "                imu_window = imu_buffer[start_idx:idx + 1]\n",
    "            else:\n",
    "                imu_window = []\n",
    "        else:\n",
    "            imu_window = []\n",
    "\n",
    "        # Pad and save IMU\n",
    "        pad_count = max(0, IMU_WINDOW - len(imu_window))\n",
    "        padded_window = [imu_pad_entry] * pad_count + imu_window\n",
    "\n",
    "        imu_data = np.zeros((IMU_WINDOW, 6), dtype=np.float32)\n",
    "        for i, (_, imu_msg) in enumerate(padded_window):\n",
    "            if imu_msg.header.stamp.sec > 0:  # Valid IMU data\n",
    "                imu_data[i] = [\n",
    "                    imu_msg.linear_acceleration.x, imu_msg.linear_acceleration.y, imu_msg.linear_acceleration.z,\n",
    "                    imu_msg.angular_velocity.x, imu_msg.angular_velocity.y, imu_msg.angular_velocity.z\n",
    "                ]\n",
    "\n",
    "        np.save(imu_dir / f\"imu_{img_count:06d}.npy\", imu_data)\n",
    "\n",
    "        # Process pose - optimized\n",
    "        label_arr = np.zeros(7, dtype=np.float32)\n",
    "\n",
    "        if odom_buffer:\n",
    "            odom_timestamps = [t for t, _ in odom_buffer]\n",
    "            pos = bisect.bisect_left(odom_timestamps, timestamp_ns)\n",
    "\n",
    "            # Exact match\n",
    "            if pos < len(odom_buffer) and odom_buffer[pos][0] == timestamp_ns:\n",
    "                pose = odom_buffer[pos][1]\n",
    "                label_arr[:3] = [pose.position.x, pose.position.y, pose.position.z]\n",
    "                label_arr[3:] = [pose.orientation.x, pose.orientation.y, pose.orientation.z, pose.orientation.w]\n",
    "\n",
    "            # Interpolate\n",
    "            elif 0 < pos < len(odom_buffer):\n",
    "                t_prev, pose_prev = odom_buffer[pos - 1]\n",
    "                t_next, pose_next = odom_buffer[pos]\n",
    "\n",
    "                if t_next - t_prev < MAX_ODOM_GAP_NS:\n",
    "                    ratio = (timestamp_ns - t_prev) / (t_next - t_prev)\n",
    "\n",
    "                    # Position interpolation\n",
    "                    pos_prev = np.array([pose_prev.position.x, pose_prev.position.y, pose_prev.position.z])\n",
    "                    pos_next = np.array([pose_next.position.x, pose_next.position.y, pose_next.position.z])\n",
    "                    interp_pos = (1.0 - ratio) * pos_prev + ratio * pos_next\n",
    "\n",
    "                    # Quaternion slerp\n",
    "                    q_prev = [pose_prev.orientation.x, pose_prev.orientation.y, pose_prev.orientation.z,\n",
    "                              pose_prev.orientation.w]\n",
    "                    q_next = [pose_next.orientation.x, pose_next.orientation.y, pose_next.orientation.z,\n",
    "                              pose_next.orientation.w]\n",
    "\n",
    "                    rots = R.from_quat([q_prev, q_next])\n",
    "                    slerp = Slerp([0.0, 1.0], rots)\n",
    "                    interp_quat = slerp([ratio])[0].as_quat()\n",
    "\n",
    "                    label_arr[:3] = interp_pos\n",
    "                    label_arr[3:] = interp_quat\n",
    "                else:\n",
    "                    # Use nearest\n",
    "                    nearest_idx = min(range(len(odom_buffer)), key=lambda i: abs(odom_timestamps[i] - timestamp_ns))\n",
    "                    pose = odom_buffer[nearest_idx][1]\n",
    "                    label_arr[:3] = [pose.position.x, pose.position.y, pose.position.z]\n",
    "                    label_arr[3:] = [pose.orientation.x, pose.orientation.y, pose.orientation.z, pose.orientation.w]\n",
    "            else:\n",
    "                # Use nearest available\n",
    "                if odom_buffer:\n",
    "                    nearest_idx = min(range(len(odom_buffer)), key=lambda i: abs(odom_timestamps[i] - timestamp_ns))\n",
    "                    pose = odom_buffer[nearest_idx][1]\n",
    "                    label_arr[:3] = [pose.position.x, pose.position.y, pose.position.z]\n",
    "                    label_arr[3:] = [pose.orientation.x, pose.orientation.y, pose.orientation.z, pose.orientation.w]\n",
    "\n",
    "        np.save(label_dir / f\"label_{img_count:06d}.npy\", label_arr)\n",
    "        image_timestamps.append(timestamp_ns)\n",
    "        img_count += 1\n",
    "\n",
    "    elif topic == IMU_TOPIC:\n",
    "        imu_msg = deserialize_message(data_bytes, Imu)\n",
    "\n",
    "        # Get timestamp\n",
    "        if imu_msg.header.stamp.sec > 0 or imu_msg.header.stamp.nanosec > 0:\n",
    "            timestamp_ns = imu_msg.header.stamp.sec * 10 ** 9 + imu_msg.header.stamp.nanosec\n",
    "        else:\n",
    "            timestamp_ns = bag_timestamp_ns\n",
    "\n",
    "        imu_count += 1\n",
    "        if imu_count % IMU_DOWNSAMPLE == 0:\n",
    "            imu_buffer.append((timestamp_ns, imu_msg))\n",
    "\n",
    "            # Maintain buffer size\n",
    "            if len(imu_buffer) > IMU_WINDOW * 3:\n",
    "                imu_buffer.pop(0)\n",
    "\n",
    "    elif topic == ODOM_TOPIC:\n",
    "        vo = deserialize_message(data_bytes, VehicleOdometry)\n",
    "\n",
    "        # Get and convert timestamp\n",
    "        px4_ts = getattr(vo, 'timestamp_sample', getattr(vo, 'timestamp', 0))\n",
    "        if px4_ts > 0:\n",
    "            timestamp_ns = convert_px4_to_sim(px4_ts * 1000)\n",
    "        else:\n",
    "            timestamp_ns = bag_timestamp_ns\n",
    "\n",
    "\n",
    "        # Create pose object - simplified\n",
    "        class FakePose:\n",
    "            def __init__(self, x, y, z, qx, qy, qz, qw):\n",
    "                class P: pass\n",
    "\n",
    "                self.position = P()\n",
    "                self.position.x, self.position.y, self.position.z = x, y, z\n",
    "                self.orientation = P()\n",
    "                self.orientation.x, self.orientation.y, self.orientation.z, self.orientation.w = qx, qy, qz, qw\n",
    "\n",
    "\n",
    "        x, y, z = vo.position\n",
    "        qx, qy, qz, qw = vo.q\n",
    "        odom_buffer.append((timestamp_ns, FakePose(x, y, z, qx, qy, qz, qw)))\n",
    "\n",
    "    elif topic == CLOCK_TOPIC:\n",
    "        clock_msg = deserialize_message(data_bytes, Clock)\n",
    "        clock_ns = clock_msg.clock.sec * 10 ** 9 + clock_msg.clock.nanosec\n",
    "        clock_list.append(clock_ns)\n",
    "\n",
    "    pbar.update(1)\n",
    "\n",
    "pbar.close()\n",
    "reader.close()"
   ],
   "id": "ab23c05669b73174",
   "outputs": [
    {
     "name": "stdout",
     "output_type": "stream",
     "text": [
      "Found 4 topics\n",
      "Collecting timestamps for synchronization...\n",
      "Building sync lookup from 745791 clock and 183563 odom messages\n",
      "Sync offset: 1749060585609.8ms\n",
      "Processing data...\n"
     ]
    },
    {
     "data": {
      "text/plain": [
       "Processing...: 0msg [00:00, ?msg/s]"
      ],
      "application/vnd.jupyter.widget-view+json": {
       "version_major": 2,
       "version_minor": 0,
       "model_id": "7499a4135d384a35af0e25d23f75d326"
      }
     },
     "metadata": {},
     "output_type": "display_data"
    }
   ],
   "execution_count": 8
  },
  {
   "metadata": {
    "ExecuteTime": {
     "end_time": "2025-06-04T22:59:11.538686Z",
     "start_time": "2025-06-04T22:59:11.245579Z"
    }
   },
   "cell_type": "code",
   "source": [
    "with open(clock_log, \"w\") as f:\n",
    "    json.dump(clock_list, f, indent=2)\n",
    "\n",
    "np.save(timestamps_file, np.array(image_timestamps))\n",
    "\n",
    "print(\"Processing completed.\")\n",
    "print(f\"  Saved images: {img_count}\")\n",
    "print(f\"  IMU messages: {imu_count} (downsampled: {len(imu_buffer)})\")\n",
    "print(f\"  Odometry messages: {len(odom_buffer)}\")\n",
    "print(f\"  Clock stamps: {len(clock_list)}\")\n",
    "print(f\"  Data saved to: {output_dir}\")\n",
    "\n",
    "rclpy.shutdown()"
   ],
   "id": "97b93b3a35aaac96",
   "outputs": [
    {
     "name": "stdout",
     "output_type": "stream",
     "text": [
      "Processing completed.\n",
      "  Saved images: 36885\n",
      "  IMU messages: 374012 (downsampled: 150)\n",
      "  Odometry messages: 183563\n",
      "  Clock stamps: 745791\n",
      "  Data saved to: output\n"
     ]
    }
   ],
   "execution_count": 9
  }
 ],
 "metadata": {
  "kernelspec": {
   "display_name": "Python 3",
   "language": "python",
   "name": "python3"
  },
  "language_info": {
   "codemirror_mode": {
    "name": "ipython",
    "version": 2
   },
   "file_extension": ".py",
   "mimetype": "text/x-python",
   "name": "python",
   "nbconvert_exporter": "python",
   "pygments_lexer": "ipython2",
   "version": "2.7.6"
  }
 },
 "nbformat": 4,
 "nbformat_minor": 5
}
